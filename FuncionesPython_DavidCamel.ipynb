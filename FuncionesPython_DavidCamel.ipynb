{
 "cells": [
  {
   "cell_type": "markdown",
   "id": "e4101f0c",
   "metadata": {},
   "source": [
    "# Funciones en Phyton\n",
    "\n",
    "#### David Alfonso Camel Bámaca\n",
    "#### Carné 16006320\n",
    "\n",
    "\n",
    "Una función es un objeto que puede pasar una variable como parametro a otra función y debolver un resultado pero tambien pude debolver la función desde una función. \n",
    "\n",
    "También puede utilizar tablas hash y listas.\n",
    "\n",
    "Las funciones puede debolver una  variable, una expresión o una constante y se devuelve al final de la ejecución de la función. Si nada de lo anterior está presente con la declaración de devolución, se devuelve un objeto Ninguno.\n"
   ]
  },
  {
   "cell_type": "code",
   "execution_count": 340,
   "id": "f81b6436",
   "metadata": {},
   "outputs": [],
   "source": [
    "def FuncionEjemplo_Cuadrado (a):\n",
    "    x = a**2\n",
    "    return x\n"
   ]
  },
  {
   "cell_type": "code",
   "execution_count": 341,
   "id": "7d5fb994",
   "metadata": {},
   "outputs": [
    {
     "name": "stdout",
     "output_type": "stream",
     "text": [
      "El Valor al Cudrado es:\n"
     ]
    },
    {
     "data": {
      "text/plain": [
       "100"
      ]
     },
     "execution_count": 341,
     "metadata": {},
     "output_type": "execute_result"
    }
   ],
   "source": [
    "print (\"El Valor al Cudrado es:\")\n",
    "FuncionEjemplo_Cuadrado (10)"
   ]
  },
  {
   "cell_type": "markdown",
   "id": "91265a6b",
   "metadata": {},
   "source": [
    "### Las funciones pueden pasar  argumentos a otras funciones\n",
    "\n",
    "Ejemplo"
   ]
  },
  {
   "cell_type": "code",
   "execution_count": 342,
   "id": "cd8741c5",
   "metadata": {},
   "outputs": [],
   "source": [
    "def FuncionMultiplicar (a,b):\n",
    "    Y = a*b\n",
    "    return Y\n",
    "def Division(divisor, dividendo ):\n",
    "    div = dividendo/divisor\n",
    "    return div"
   ]
  },
  {
   "cell_type": "code",
   "execution_count": 343,
   "id": "238271f7",
   "metadata": {},
   "outputs": [
    {
     "data": {
      "text/plain": [
       "10"
      ]
     },
     "execution_count": 343,
     "metadata": {},
     "output_type": "execute_result"
    }
   ],
   "source": [
    "FuncionMultiplicar(10,FuncionEjemplo_Cuadrado(1))"
   ]
  },
  {
   "cell_type": "code",
   "execution_count": 344,
   "id": "f9bb7c6c",
   "metadata": {},
   "outputs": [
    {
     "name": "stdout",
     "output_type": "stream",
     "text": [
      "0.1\n",
      "0.1\n"
     ]
    }
   ],
   "source": [
    "print(Division (divisor = 10, dividendo = 1))\n",
    "print(Division ( dividendo = 1, divisor = 10))"
   ]
  },
  {
   "cell_type": "markdown",
   "id": "35addbae",
   "metadata": {},
   "source": [
    "### Las funciones pueden devolver otra función\n",
    "Ejemplo:"
   ]
  },
  {
   "cell_type": "code",
   "execution_count": 345,
   "id": "54068e0b",
   "metadata": {},
   "outputs": [],
   "source": [
    "def Primera(x):\n",
    "    \n",
    "    def Segunda(y):\n",
    "         return x+y\n",
    "      \n",
    "    return Segunda\n",
    "\n",
    "    \n",
    "Agrega = Primera(1000)\n",
    "\n"
   ]
  },
  {
   "cell_type": "code",
   "execution_count": 346,
   "id": "15373d03",
   "metadata": {},
   "outputs": [
    {
     "name": "stdout",
     "output_type": "stream",
     "text": [
      "1888\n"
     ]
    }
   ],
   "source": [
    "print (Agrega(888))\n",
    "\n"
   ]
  },
  {
   "cell_type": "markdown",
   "id": "1d525dae",
   "metadata": {},
   "source": [
    "### Argumentos de Longitud variable\n",
    "En una función puede pasar un número variable de argumentos usando símbolos especiales:\n",
    "\n",
    "1)'*' argumentos que no son palabras clave\n",
    "\n",
    "2)'* *' argumentos de palabras clave"
   ]
  },
  {
   "cell_type": "code",
   "execution_count": 347,
   "id": "cd2bebc8",
   "metadata": {},
   "outputs": [],
   "source": [
    "# Argumentos que on son palabras llave \n",
    "def ArgumentoVariable(*ArguVar):\n",
    "    cont = 0\n",
    "    for x in ArguVar:\n",
    "        cont = cont+x\n",
    "    return cont"
   ]
  },
  {
   "cell_type": "code",
   "execution_count": 348,
   "id": "98ac9330",
   "metadata": {},
   "outputs": [
    {
     "data": {
      "text/plain": [
       "57"
      ]
     },
     "execution_count": 348,
     "metadata": {},
     "output_type": "execute_result"
    }
   ],
   "source": [
    "ArgumentoVariable(1,2,3,4,5,6,7,8,9,12)"
   ]
  },
  {
   "cell_type": "code",
   "execution_count": 349,
   "id": "a42bdaf1",
   "metadata": {},
   "outputs": [
    {
     "name": "stdout",
     "output_type": "stream",
     "text": [
      "PrimerNombre , David\n",
      "mid , for\n",
      "last , Geeks\n"
     ]
    }
   ],
   "source": [
    "# Argumentos de Palabras clave\n",
    "def NombreCompleto1(**Nombre):\n",
    "    for key, value in Nombre.items():\n",
    "        print(\"%s , %s\" % (key, value))\n",
    " \n",
    " \n",
    "# Driver code\n",
    "NombreCompleto1(PrimerNombre='David', mid='for', last='Geeks')"
   ]
  },
  {
   "cell_type": "code",
   "execution_count": 350,
   "id": "67ddded3",
   "metadata": {},
   "outputs": [],
   "source": [
    "# Argumentos con Llave\n",
    "def nombreCompleto (**Nombre):\n",
    "    for key, value in Nombre.items():\n",
    "        print(\"%s -> %s\" % (key, value))\n"
   ]
  },
  {
   "cell_type": "code",
   "execution_count": 351,
   "id": "e8fedb7c",
   "metadata": {},
   "outputs": [
    {
     "name": "stdout",
     "output_type": "stream",
     "text": [
      "PrimerNombre -> David\n",
      "SegundoNombre -> Alfonso\n"
     ]
    }
   ],
   "source": [
    "nombreCompleto(PrimerNombre = 'David', SegundoNombre = 'Alfonso')"
   ]
  },
  {
   "cell_type": "markdown",
   "id": "d62db563",
   "metadata": {},
   "source": [
    "## Cadena de documentación\n",
    "La primera cadena después de la función se denomina cadena de documento o Docstring en resumen. Esto se utiliza para describir la funcionalidad de la función."
   ]
  },
  {
   "cell_type": "code",
   "execution_count": 352,
   "id": "48b08913",
   "metadata": {},
   "outputs": [],
   "source": [
    "def CadenaDocumentacion(x,y):\n",
    "    \"\"\"Función deseñada para elevar a la potencia un numero\"\"\"\n",
    "    z = x**y\n",
    "    return z"
   ]
  },
  {
   "cell_type": "code",
   "execution_count": 353,
   "id": "21e81510",
   "metadata": {},
   "outputs": [
    {
     "name": "stdout",
     "output_type": "stream",
     "text": [
      "Función deseñada para elevar a la potencia un numero\n",
      "10000000000\n"
     ]
    }
   ],
   "source": [
    "print(CadenaDocumentacion.__doc__)\n",
    "print(CadenaDocumentacion(10,10))"
   ]
  },
  {
   "cell_type": "markdown",
   "id": "d85ee40e",
   "metadata": {},
   "source": [
    "### Función de referencia\n",
    "\n",
    "Cuando pasamos una variable a una función, se crea una nueva referencia al objeto.\n",
    "Ejemplo:"
   ]
  },
  {
   "cell_type": "code",
   "execution_count": 354,
   "id": "1f9c6661",
   "metadata": {},
   "outputs": [],
   "source": [
    "def FuncionReferencia(x):\n",
    "    x[0] = 'Uno'\n",
    "    x[1] = 'Dos'\n",
    "    x[2] = 'Tres'\n",
    " \n",
    " "
   ]
  },
  {
   "cell_type": "code",
   "execution_count": 355,
   "id": "7139d5b0",
   "metadata": {},
   "outputs": [
    {
     "name": "stdout",
     "output_type": "stream",
     "text": [
      "Lista original\n",
      "[1, 2, 3, 4, 5, 6]\n",
      "Lista despues de Función de Referencia\n",
      "['Uno', 'Dos', 'Tres', 4, 5, 6]\n"
     ]
    }
   ],
   "source": [
    "Lista = [1,2,3,4,5,6]\n",
    "print('Lista original')\n",
    "print(Lista)\n",
    "\n",
    "FuncionReferencia(Lista)\n",
    "print('Lista despues de Función de Referencia')\n",
    "print(Lista)\n",
    "\n"
   ]
  },
  {
   "cell_type": "markdown",
   "id": "41f808d5",
   "metadata": {},
   "source": [
    "Si al pasar una referencia, cambiamos la referencia recibida a otra cosa, la conexión entre el parámetro pasado y el recibido se rompe. Por ejemplo:"
   ]
  },
  {
   "cell_type": "code",
   "execution_count": 356,
   "id": "8e583993",
   "metadata": {},
   "outputs": [],
   "source": [
    "def Cambio(x):\n",
    "     \n",
    "    ListaRef = [20, 30, 40,1,2,6]\n",
    "    print (\"Referencia dentro de la Función = \"+str((ListaRef))) \n",
    "    \n"
   ]
  },
  {
   "cell_type": "code",
   "execution_count": 357,
   "id": "88315b34",
   "metadata": {},
   "outputs": [
    {
     "name": "stdout",
     "output_type": "stream",
     "text": [
      "Referencia Original = [10, 11, 12, 13, 14, 15]\n",
      "Referencia dentro de la Función = [20, 30, 40, 1, 2, 6]\n",
      "Referencia despues del cambio en la función[10, 11, 12, 13, 14, 15]\n"
     ]
    }
   ],
   "source": [
    "ListaRef = [10, 11, 12, 13, 14, 15]\n",
    "print (\"Referencia Original = \" + str(ListaRef) )\n",
    "\n",
    "Cambio(ListaRef)\n",
    "\n",
    "print (\"Referencia despues del cambio en la función\" + str(ListaRef) ) \n"
   ]
  },
  {
   "cell_type": "markdown",
   "id": "b8522752",
   "metadata": {},
   "source": [
    "### Funciones anónimas\n",
    "Una función anónima significa que una función no tiene nombre. se define con la palabra reservada  def. La palabra clave lambda se usa para crear funciones anónimas. "
   ]
  },
  {
   "cell_type": "code",
   "execution_count": 358,
   "id": "636c48c2",
   "metadata": {},
   "outputs": [],
   "source": [
    "def Funcion_def(x): return x+x**x"
   ]
  },
  {
   "cell_type": "code",
   "execution_count": 359,
   "id": "ac709214",
   "metadata": {},
   "outputs": [],
   "source": [
    "Funcion_Lambda = lambda x : x+x**x"
   ]
  },
  {
   "cell_type": "code",
   "execution_count": 360,
   "id": "d6eb983f",
   "metadata": {
    "scrolled": true
   },
   "outputs": [
    {
     "name": "stdout",
     "output_type": "stream",
     "text": [
      "Función def \n",
      "823550\n",
      "Función lambda \n",
      "823550\n"
     ]
    }
   ],
   "source": [
    "print(\"Función def \")\n",
    "print(Funcion_def(7))\n",
    "\n",
    "print(\"Función lambda \")\n",
    "print(Funcion_Lambda(7))"
   ]
  },
  {
   "cell_type": "code",
   "execution_count": null,
   "id": "e629b86c",
   "metadata": {},
   "outputs": [],
   "source": []
  }
 ],
 "metadata": {
  "kernelspec": {
   "display_name": "Python 3 (ipykernel)",
   "language": "python",
   "name": "python3"
  },
  "language_info": {
   "codemirror_mode": {
    "name": "ipython",
    "version": 3
   },
   "file_extension": ".py",
   "mimetype": "text/x-python",
   "name": "python",
   "nbconvert_exporter": "python",
   "pygments_lexer": "ipython3",
   "version": "3.9.7"
  }
 },
 "nbformat": 4,
 "nbformat_minor": 5
}
