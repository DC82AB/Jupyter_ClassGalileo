{
 "cells": [
  {
   "cell_type": "markdown",
   "id": "5a717372",
   "metadata": {},
   "source": [
    "### Clase_06_Numpy y linalg_.ipynb"
   ]
  },
  {
   "cell_type": "code",
   "execution_count": 10,
   "id": "c28f5339",
   "metadata": {},
   "outputs": [],
   "source": [
    "import numpy as np\n",
    "import matplotlib.pyplot as plt"
   ]
  },
  {
   "cell_type": "markdown",
   "id": "800e570a",
   "metadata": {},
   "source": [
    "ejercicio : en data science y programación científica es común necesitar vectores con valores dentro de cierto intervalo, pero con sub-intervalos internos con diference espaciamiento ,por ejemplo:\n",
    "\n",
    "[0. , 0.1 , 0.2 , 0.3 , 0.4 , 0.5 , 0.51, 0.52, 0.53, 0.54, 0.55, 0.56, 0.57, 0.58, 0.59, 0.6 , 0.7 , 0.8 , 0.9 , 1. ]\n",
    "\n",
    "El primer sub-intervalo incrementa de 0.1 en 0.1 , el segundo de 0.01 en 0.01 , y el tercero de 0.1 en 0.1 nuevamente.\n",
    "\n",
    "Usando unicamente NumPy crea un vector de este tipo con el nombre xs .\n",
    "\n",
    "nota: no es permitido usar ciclos, debe realizarse con operaciones \"vectorizadas\" de numpy"
   ]
  },
  {
   "cell_type": "code",
   "execution_count": 7,
   "id": "18dec476",
   "metadata": {},
   "outputs": [
    {
     "name": "stdout",
     "output_type": "stream",
     "text": [
      "[0.   0.1  0.2  0.3  0.4  0.5  0.51 0.52 0.53 0.54 0.55 0.56 0.57 0.58\n",
      " 0.59 0.6  0.7  0.8  0.9  1.  ]\n"
     ]
    }
   ],
   "source": [
    "# tu codigo aqui (~ 5 lineas de codigo):\n",
    "a = np.linspace(0,0.5,6)\n",
    "b = np.linspace(0.51,0.59,9)\n",
    "c = np.linspace(0.6,1,5)\n",
    "x = np.hstack((a,b,c))\n",
    "print(x)\n"
   ]
  },
  {
   "cell_type": "markdown",
   "id": "64914ac3",
   "metadata": {},
   "source": [
    "Ejercicio (parte de tarea) En este caso usamos un ciclo para ejemplificar pero ya hemos mencionado que debemos evitarlos siempre que sea posible y usar operaciones \"vectorizadas\" ya que es mucho mas rápido al utilizar código pre-compilado de C, en este ejercicio debemos remplazar el calculo de ys para hacerlo de manera \"vectorizada\" y eliminar el ciclo for.\n",
    "\n",
    "tip: usar slicing"
   ]
  },
  {
   "cell_type": "code",
   "execution_count": 8,
   "id": "b180a103",
   "metadata": {},
   "outputs": [],
   "source": [
    "sample_points = 100000 #10000\n",
    "inicio_intervalo = 0\n",
    "ruido = 0.5*np.random.randn(sample_points) #el ruido comunmente se debe a aleatoriedad o captura no exacta de info.\n",
    "x = np.linspace(inicio_intervalo,5*np.pi,sample_points) \n",
    "y = np.sin(x) + ruido\n",
    "\n",
    "#ys es \"y suavizado\", inicialmente es una copia de y\n",
    "ys =  y.copy()\n",
    "\n",
    "A =  y.copy()\n",
    "B = np.insert(A, 0, 0)\n",
    "B= np.delete(B, np.s_[-1:])\n",
    "C = A[1:]\n",
    "C = np.append(C,0)\n",
    "\n",
    "ys = (A+B+C)/3"
   ]
  },
  {
   "cell_type": "code",
   "execution_count": 11,
   "id": "bd0d70e2",
   "metadata": {},
   "outputs": [
    {
     "data": {
      "image/png": "[encoded data removed]",
      "text/plain": [
       "<Figure size 432x288 with 1 Axes>"
      ]
     },
     "metadata": {
      "needs_background": "light"
     },
     "output_type": "display_data"
    }
   ],
   "source": [
    "plt.plot(x,y)\n",
    "plt.plot(x,ys)\n",
    "plt.xlim(inicio_intervalo,5*np.pi + 0.5)#limieteX\n",
    "plt.show()"
   ]
  },
  {
   "cell_type": "markdown",
   "id": "408edcd3",
   "metadata": {},
   "source": [
    "Ejercicio Para calcular la información de una distribución de probabilidad necesitamos calcular el producto entre la información de cada posible x y su probabilidad , cada uno de estos elementos nos indica cuanta incerteza aporta cada x a la entropía de la distribución. Crea una función que calcule esto, debe recibir un vector representando a la dist. de probabilidad y devoler otro vector con el termino de entropía para cada x. Por ejemplo:\n",
    "\n",
    "calcular_entropia([0.25,0.75])\n",
    "\n",
    "Debe resultar en :\n",
    "\n",
    "[0.5 , 0.31127812]\n",
    "\n",
    "Nota: la entropía es la suma sobre estos valores, en este caso no calculamos la entropía,unicamente los termimos de su sumatoria. La entropía es:\n",
    "\n",
    "S=−∑inP(xi)log2P(xi)\n"
   ]
  },
  {
   "cell_type": "code",
   "execution_count": 12,
   "id": "6cb047c2",
   "metadata": {},
   "outputs": [
    {
     "name": "stdout",
     "output_type": "stream",
     "text": [
      "[0.5        0.31127812]\n"
     ]
    }
   ],
   "source": [
    "# tu codigo aqui (~ 4 lineas de codigo)\n",
    "def entropia(px):\n",
    "    return  px*np.log2(px)*-1 \n",
    "\n",
    "R = np.array([0.25,0.75])\n",
    "print (entropia(R))\n"
   ]
  },
  {
   "cell_type": "markdown",
   "id": "496053b0",
   "metadata": {},
   "source": [
    "Ejercicio : se ha determinado también que hay costos asociados a la comunicación y relación con los clientes(llamadas,mensajes electrónicos,etc) y que estos también tienen alta correlación con el monto que estos gastan en su primer més siguiendo el modelo:\n",
    "c(x)=(x2+x+log(0.0001x)−0.54x−−−−−√)/100 \n",
    "\n",
    "Cree una función para calcular este modelo sobre valores de de gasto de nuevos clientes , y luego cree una función ganancia_neta(x,g,c) donde:\n",
    "\n",
    "x = vector conteniendo los valores de gasto del primer mes para nuevos clientes.\n",
    "g = función que estima la ganancia en función de x\n",
    "c = función que estima el costo en función de x\n",
    "La función realiza el calculo simple g(x) - c(x) , ya que es posible que los modelos cambien en el tiempo es común recibir como parámetro el modelo o modelos hijos de un modelo mas grande , en este caso eso se logra recibiendo como parámetro las funciones de ganancia y costo."
   ]
  },
  {
   "cell_type": "markdown",
   "id": "f38b1294",
   "metadata": {},
   "source": [
    "Ejercicio : se ha determinado también que hay costos asociados a la comunicación y relación con los clientes(llamadas,mensajes electrónicos,etc) y que estos también tienen alta correlación con el monto que estos gastan en su primer més siguiendo el modelo:\n",
    "c(x)=(x2+x+log(0.0001x)−0.54x−−−−−√)/100 \n",
    "\n",
    "Cree una función para calcular este modelo sobre valores de de gasto de nuevos clientes , y luego cree una función ganancia_neta(x,g,c) donde:\n",
    "\n",
    "x = vector conteniendo los valores de gasto del primer mes para nuevos clientes.\n",
    "g = función que estima la ganancia en función de x\n",
    "c = función que estima el costo en función de x\n",
    "La función realiza el calculo simple g(x) - c(x) , ya que es posible que los modelos cambien en el tiempo es común recibir como parámetro el modelo o modelos hijos de un modelo mas grande , en este caso eso se logra recibiendo como parámetro las funciones de ganancia y costo."
   ]
  },
  {
   "cell_type": "code",
   "execution_count": 17,
   "id": "15c3aafa",
   "metadata": {},
   "outputs": [],
   "source": [
    "def ganancia2(x):\n",
    "  ganancia = (np.power(x,3) + 2.0*(np.power(x,2.0))+np.exp(0.0001*x) - np.sqrt(2.0*x))/50\n",
    "  return ganancia #np.power(x,2)\n",
    "\n",
    "def costos(x):\n",
    "  Cost = (np.power(x,2)+x+np.log2(0.0001*x))-np.sqrt(0.54*x)/100\n",
    "  return Cost#np.sqrt(x)\n",
    "\n",
    "def ganancia_neta(x,g,c):\n",
    "  return g(x) - c(x)"
   ]
  },
  {
   "cell_type": "code",
   "execution_count": 18,
   "id": "447586f5",
   "metadata": {},
   "outputs": [
    {
     "name": "stdout",
     "output_type": "stream",
     "text": [
      "[10306.45469917    57.51591796  -303.94077276 10306.45469917]\n"
     ]
    }
   ],
   "source": [
    "gastos = np.array([100,50,25,100]) \n",
    "print(ganancia_neta(gastos,ganancia2,costos))\n"
   ]
  },
  {
   "cell_type": "markdown",
   "id": "3471ac6c",
   "metadata": {},
   "source": [
    "En muchos casos es útil usar sumas o productos acumulativos , por ejemplo:\n",
    "\n",
    "Ejemplo aplicado En un datawarehouse se tiene un modelo \"lifetime value\" en el que se almacena de manera acumulativa cuantas ganancias se han percibido a lo largo de la vida de los usuarios, un ETL en Python debe calcularlo en función de un vector que contiene de manera ordenada en el tiempo los ingresos percibidos mensualmente para cierto usuario. Podemos usar la funcion np.cumsum para esto, en este ejercicio necesitamos determinar el \"lifetime value\" de cierto usuario en su 6to mes:"
   ]
  },
  {
   "cell_type": "code",
   "execution_count": 19,
   "id": "a3cb18d2",
   "metadata": {},
   "outputs": [
    {
     "name": "stdout",
     "output_type": "stream",
     "text": [
      "Lifetime value: [ 25 175 300 375 475 520 542 572]\n",
      "El valor del usuario a su sexto mes es : 520\n"
     ]
    }
   ],
   "source": [
    "def lifetime_value(ganancias_mensuales):\n",
    "    return np.cumsum(ganancias_mensuales)\n",
    "    pass\n",
    "# Prueba:\n",
    "ganancias_usuario = np.array([25,150,125,75,100,45,22,30])\n",
    "lifetime_value_usuario = lifetime_value(ganancias_usuario)\n",
    "\n",
    "print(\"Lifetime value:\",lifetime_value_usuario)\n",
    "\n",
    "print(\"El valor del usuario a su sexto mes es :\",lifetime_value_usuario[5])"
   ]
  },
  {
   "cell_type": "markdown",
   "id": "6189cde6",
   "metadata": {},
   "source": [
    "Ejercicio Usando argmax crear una función mode(x) para calcular la moda de un vector x , esta función debe devolver una tupla de 2 elementos de la forma:\n",
    "\n",
    "(valor,conteo)\n",
    "\n",
    "tip investigar y auxiliarse de otras funciones de numpy y np.argmax, no olvidar trabajar todo vectorizado, sin ciclos."
   ]
  },
  {
   "cell_type": "code",
   "execution_count": 21,
   "id": "5335e683",
   "metadata": {},
   "outputs": [
    {
     "name": "stdout",
     "output_type": "stream",
     "text": [
      "2\n"
     ]
    }
   ],
   "source": [
    "def mode(x):\n",
    "    ## tu codigo aqui (~ 3 lineas de codigo):\n",
    "    a,b = np.unique(x, return_counts=True)\n",
    "    index = np.argmax(b)\n",
    "    return (a[index])\n",
    "    \n",
    "    pass\n",
    "\n",
    "x = np.array([1,2,3,4,5,6,7,8,9,2,2])\n",
    "print(mode(x))"
   ]
  },
  {
   "cell_type": "markdown",
   "id": "b1843824",
   "metadata": {},
   "source": [
    "Ejercicio : crear una función para calcular la entropía de una distribución de probabilidad representada como un vector.\n",
    "S=−∑inP(xi)log2P(xi) \n",
    "\n",
    "Nota: a diferencia del ejercicio anterior donde solo calculamos los términos de la entropía, en este caso si calculamos el valor completo de la entropía, que como mencionamos es una medida de incerteza en una distribución de probabilidad.\n",
    "\n",
    "recordatorio: no usar ciclos solo operaciones vectorizadas."
   ]
  },
  {
   "cell_type": "code",
   "execution_count": 39,
   "id": "e2301dbb",
   "metadata": {},
   "outputs": [
    {
     "name": "stdout",
     "output_type": "stream",
     "text": [
      "0.8112781244591328\n"
     ]
    }
   ],
   "source": [
    "def Entropia(x):\n",
    "  Yx= x*np.log2(x)*-1 \n",
    "  A= np.sum(Yx)\n",
    "  return(A)\n",
    "  \n",
    "\n",
    "R = np.array([0.25,0.75])\n",
    "print(Entropia(R))\n",
    "\n",
    "\n"
   ]
  },
  {
   "attachments": {},
   "cell_type": "markdown",
   "id": "12a73c9f",
   "metadata": {},
   "source": [
    "### Investigación\n",
    "Proyección vectorial\n",
    "Es de el extremo del vector que queremos obtener la proyección trazamos una perpendicular del vector sobre el que queremos proyectarlo. Luego, en ese mismo vector, trazamos un nuevo vector desde el origen hasta el punto donde se corta con la recta perpendicular.\n",
    "\n",
    "    Definir una función para calculo en numpy\n",
    "     interpretación\n",
    "    aplicación o caso de uso en DS u otras ciencias de tu interés: solo se necesita nombrar el caso de uso, no desarrollarlo o programarlo, tip: Hay un algoritmo de ML cuyo nombre puede ser útil.\n",
    "\n",
    "Producto cruz\n",
    "    calculo en numpy\n",
    "    interpretación\n",
    "    aplicación o caso de uso en DS u otras ciencias de tu interés: solo se necesita nombrar el caso de uso, no desarrollarlo o programarlo\n"
   ]
  },
  {
   "cell_type": "code",
   "execution_count": 56,
   "id": "747b5668",
   "metadata": {},
   "outputs": [
    {
     "name": "stdout",
     "output_type": "stream",
     "text": [
      "La proyección del vector es:  [0.63076923 1.63076923 0.41538462]\n"
     ]
    },
    {
     "name": "stderr",
     "output_type": "stream",
     "text": [
      "C:\\Users\\ADMINI~1\\AppData\\Local\\Temp/ipykernel_10144/136062844.py:3: DeprecationWarning: scipy.sum is deprecated and will be removed in SciPy 2.0.0, use numpy.sum instead\n",
      "  n_norm = np.sqrt(sum(v**2))\n"
     ]
    }
   ],
   "source": [
    "d= np.array([2, 5, 8])        \n",
    "n = np.array([1, 1, 7])        \n",
    "n_norm = np.sqrt(sum(v**2))   \n",
    "   \n",
    "x = (np.dot(u, n)/n_norm**2)*n \n",
    "  \n",
    "print(\"La proyección del vector es: \", u - x)"
   ]
  },
  {
   "cell_type": "markdown",
   "id": "dcd7fcf2",
   "metadata": {},
   "source": [
    "Numpy devuelve el producto de puntos de dos matrices\n",
    "\n",
    "las proyecciones vectoriales se pueden utilizar en la fisica, "
   ]
  },
  {
   "cell_type": "markdown",
   "id": "99897699",
   "metadata": {},
   "source": [
    "### Producto Cruz\n",
    "\n",
    "El producto cruzado de dos vectores produce un vector que es perpendicular al plano formado por los vectores de entrada y su magnitud es proporcional al área que abarca el paralelogramo formado por estos vectores de entrada\n",
    "\n",
    "El producto cruz mide qué tanto dos vectores apuntan en direcciones diferentes.\n",
    "\n"
   ]
  },
  {
   "cell_type": "code",
   "execution_count": 57,
   "id": "03ac4925",
   "metadata": {},
   "outputs": [
    {
     "name": "stdout",
     "output_type": "stream",
     "text": [
      "17\n"
     ]
    }
   ],
   "source": [
    "A = np.array([5, 4])\n",
    "B = np.array([7, 9])\n",
    " \n",
    "\n",
    "salida = np.cross(A, B)\n",
    " \n",
    "print(salida)"
   ]
  }
 ],
 "metadata": {
  "kernelspec": {
   "display_name": "Python 3 (ipykernel)",
   "language": "python",
   "name": "python3"
  },
  "language_info": {
   "codemirror_mode": {
    "name": "ipython",
    "version": 3
   },
   "file_extension": ".py",
   "mimetype": "text/x-python",
   "name": "python",
   "nbconvert_exporter": "python",
   "pygments_lexer": "ipython3",
   "version": "3.9.7"
  }
 },
 "nbformat": 4,
 "nbformat_minor": 5
}
