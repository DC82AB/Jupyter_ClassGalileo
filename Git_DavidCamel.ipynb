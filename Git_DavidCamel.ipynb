{
 "cells": [
  {
   "cell_type": "markdown",
   "id": "f4bc5f23",
   "metadata": {},
   "source": [
    "### Universidad Galileo\n",
    "David Alfonso Camel Bámaca, Carné 16006320\n",
    "\n",
    "# Git\n",
    "Cuando se trabaja en proyectos grandes, o varios proyectos a la vez, es necesario que muchas personas trabajen en el desarrollo de una aplicación al mismo tiempo. Esto significa importantes esfuerzos de coordinación de los recursos para que puedan funcionar correctamente y un error puede bloquear a los demás desarrolladores o puede comprometer un sistema que ya esté en producción.\n",
    "\n",
    "Git es una **herramienta que gestiona el control de versiones** en un proyecto y es muy útil debido a que permite conocer el avances y modificaciones del proyecto, pudiendo regresar a versiones anteriores si existiera algún error. \n",
    "\n",
    "Git trabaja por Ramas. La rama principal es el proyecto y Git permite crea ramas paralelas donde pude desarrollarse las mejoras o cambios sin afectar a la rama principal. Las ramas paralelas pueden fusionarse a al proyecto principal, pero para que esto suceda deben ser aprobado por un responsable del proyecto, lo que permite un excelente control de los cambios. \n",
    "\n",
    "Otra de las ventajas de Git, es que permite trabajar remotamente, lo que facilita la colaboración de distintos equipos multidisciplinarios, creando sinergia que mejoran el desempeño del equipo.\n",
    "\n",
    "Además, Git guarda registros de:\n",
    "-**Quién**, de los integrantes del equipo realizó a programación.\n",
    "-**Cuándo** realizó las modificaciones al código y;\n",
    "-**Qué** cambios realizó. con Git puedes revisar que líneas cambiaron de las diferentes versiones.\n",
    "\n",
    "\n"
   ]
  },
  {
   "cell_type": "code",
   "execution_count": 45,
   "id": "599d9af8",
   "metadata": {},
   "outputs": [
    {
     "data": {
      "text/html": [
       "<html>\n",
       "    <head>\n",
       "        <title>Magic Commands: texto</title>\n",
       "    </head>\n",
       "    <body>\n",
       "         Prueba de uso de Magic Commands, si no se agrega al inicio \"%%HTML\" presenta error .<br/>\n",
       "         \n",
       "         <p>El doble porcentaje indica que se usará en toda la celda.</p>\n",
       "    </body>\n",
       "</html>\n"
      ],
      "text/plain": [
       "<IPython.core.display.HTML object>"
      ]
     },
     "metadata": {},
     "output_type": "display_data"
    }
   ],
   "source": [
    "%%HTML \n",
    "<html>\n",
    "    <head>\n",
    "        <title>Magic Commands: texto</title>\n",
    "    </head>\n",
    "    <body>\n",
    "         Prueba de uso de Magic Commands, si no se agrega al inicio \"%%HTML\" presenta error .<br/>\n",
    "         \n",
    "         <p>El doble porcentaje indica que se usará en toda la celda.</p>\n",
    "    </body>\n",
    "</html>"
   ]
  }
 ],
 "metadata": {
  "kernelspec": {
   "display_name": "Python 3 (ipykernel)",
   "language": "python",
   "name": "python3"
  },
  "language_info": {
   "codemirror_mode": {
    "name": "ipython",
    "version": 3
   },
   "file_extension": ".py",
   "mimetype": "text/x-python",
   "name": "python",
   "nbconvert_exporter": "python",
   "pygments_lexer": "ipython3",
   "version": "3.9.7"
  }
 },
 "nbformat": 4,
 "nbformat_minor": 5
}
