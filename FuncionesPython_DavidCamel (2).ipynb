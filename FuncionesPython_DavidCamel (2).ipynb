{
 "cells": [
  {
   "cell_type": "markdown",
   "id": "e4101f0c",
   "metadata": {},
   "source": [
    "# Funciones en Phyton\n",
    "\n",
    "#### David Alfonso Camel Bámaca\n",
    "#### Carné 16006320\n",
    "\n",
    "\n",
    "Una función es un objeto que puede pasar una variable como parametro a otra función y debolver un resultado pero tambien pude debolver la función desde una función. \n",
    "\n",
    "También puede utilizar tablas hash y listas.\n",
    "\n",
    "Las funciones puede debolver una  variable, una expresión o una constante y se devuelve al final de la ejecución de la función. Si nada de lo anterior está presente con la declaración de devolución, se devuelve un objeto Ninguno.\n"
   ]
  },
  {
   "cell_type": "code",
   "execution_count": 31,
   "id": "f81b6436",
   "metadata": {},
   "outputs": [
    {
     "ename": "CalledProcessError",
     "evalue": "Command 'b'def FuncionEjemplo_Cuadrado (a):\\n    x = a**2\\n    return x\\n'' returned non-zero exit status 9009.",
     "output_type": "error",
     "traceback": [
      "\u001b[1;31m---------------------------------------------------------------------------\u001b[0m",
      "\u001b[1;31mCalledProcessError\u001b[0m                        Traceback (most recent call last)",
      "\u001b[1;32mC:\\Users\\ADMINI~1\\AppData\\Local\\Temp/ipykernel_4292/2970169808.py\u001b[0m in \u001b[0;36m<module>\u001b[1;34m\u001b[0m\n\u001b[1;32m----> 1\u001b[1;33m \u001b[0mget_ipython\u001b[0m\u001b[1;33m(\u001b[0m\u001b[1;33m)\u001b[0m\u001b[1;33m.\u001b[0m\u001b[0mrun_cell_magic\u001b[0m\u001b[1;33m(\u001b[0m\u001b[1;34m'python3'\u001b[0m\u001b[1;33m,\u001b[0m \u001b[1;34m''\u001b[0m\u001b[1;33m,\u001b[0m \u001b[1;34m'def FuncionEjemplo_Cuadrado (a):\\n    x = a**2\\n    return x\\n'\u001b[0m\u001b[1;33m)\u001b[0m\u001b[1;33m\u001b[0m\u001b[1;33m\u001b[0m\u001b[0m\n\u001b[0m",
      "\u001b[1;32m~\\anaconda3\\lib\\site-packages\\IPython\\core\\interactiveshell.py\u001b[0m in \u001b[0;36mrun_cell_magic\u001b[1;34m(self, magic_name, line, cell)\u001b[0m\n\u001b[0;32m   2404\u001b[0m             \u001b[1;32mwith\u001b[0m \u001b[0mself\u001b[0m\u001b[1;33m.\u001b[0m\u001b[0mbuiltin_trap\u001b[0m\u001b[1;33m:\u001b[0m\u001b[1;33m\u001b[0m\u001b[1;33m\u001b[0m\u001b[0m\n\u001b[0;32m   2405\u001b[0m                 \u001b[0margs\u001b[0m \u001b[1;33m=\u001b[0m \u001b[1;33m(\u001b[0m\u001b[0mmagic_arg_s\u001b[0m\u001b[1;33m,\u001b[0m \u001b[0mcell\u001b[0m\u001b[1;33m)\u001b[0m\u001b[1;33m\u001b[0m\u001b[1;33m\u001b[0m\u001b[0m\n\u001b[1;32m-> 2406\u001b[1;33m                 \u001b[0mresult\u001b[0m \u001b[1;33m=\u001b[0m \u001b[0mfn\u001b[0m\u001b[1;33m(\u001b[0m\u001b[1;33m*\u001b[0m\u001b[0margs\u001b[0m\u001b[1;33m,\u001b[0m \u001b[1;33m**\u001b[0m\u001b[0mkwargs\u001b[0m\u001b[1;33m)\u001b[0m\u001b[1;33m\u001b[0m\u001b[1;33m\u001b[0m\u001b[0m\n\u001b[0m\u001b[0;32m   2407\u001b[0m             \u001b[1;32mreturn\u001b[0m \u001b[0mresult\u001b[0m\u001b[1;33m\u001b[0m\u001b[1;33m\u001b[0m\u001b[0m\n\u001b[0;32m   2408\u001b[0m \u001b[1;33m\u001b[0m\u001b[0m\n",
      "\u001b[1;32m~\\anaconda3\\lib\\site-packages\\IPython\\core\\magics\\script.py\u001b[0m in \u001b[0;36mnamed_script_magic\u001b[1;34m(line, cell)\u001b[0m\n\u001b[0;32m    140\u001b[0m             \u001b[1;32melse\u001b[0m\u001b[1;33m:\u001b[0m\u001b[1;33m\u001b[0m\u001b[1;33m\u001b[0m\u001b[0m\n\u001b[0;32m    141\u001b[0m                 \u001b[0mline\u001b[0m \u001b[1;33m=\u001b[0m \u001b[0mscript\u001b[0m\u001b[1;33m\u001b[0m\u001b[1;33m\u001b[0m\u001b[0m\n\u001b[1;32m--> 142\u001b[1;33m             \u001b[1;32mreturn\u001b[0m \u001b[0mself\u001b[0m\u001b[1;33m.\u001b[0m\u001b[0mshebang\u001b[0m\u001b[1;33m(\u001b[0m\u001b[0mline\u001b[0m\u001b[1;33m,\u001b[0m \u001b[0mcell\u001b[0m\u001b[1;33m)\u001b[0m\u001b[1;33m\u001b[0m\u001b[1;33m\u001b[0m\u001b[0m\n\u001b[0m\u001b[0;32m    143\u001b[0m \u001b[1;33m\u001b[0m\u001b[0m\n\u001b[0;32m    144\u001b[0m         \u001b[1;31m# write a basic docstring:\u001b[0m\u001b[1;33m\u001b[0m\u001b[1;33m\u001b[0m\u001b[0m\n",
      "\u001b[1;32m~\\anaconda3\\lib\\site-packages\\decorator.py\u001b[0m in \u001b[0;36mfun\u001b[1;34m(*args, **kw)\u001b[0m\n\u001b[0;32m    230\u001b[0m             \u001b[1;32mif\u001b[0m \u001b[1;32mnot\u001b[0m \u001b[0mkwsyntax\u001b[0m\u001b[1;33m:\u001b[0m\u001b[1;33m\u001b[0m\u001b[1;33m\u001b[0m\u001b[0m\n\u001b[0;32m    231\u001b[0m                 \u001b[0margs\u001b[0m\u001b[1;33m,\u001b[0m \u001b[0mkw\u001b[0m \u001b[1;33m=\u001b[0m \u001b[0mfix\u001b[0m\u001b[1;33m(\u001b[0m\u001b[0margs\u001b[0m\u001b[1;33m,\u001b[0m \u001b[0mkw\u001b[0m\u001b[1;33m,\u001b[0m \u001b[0msig\u001b[0m\u001b[1;33m)\u001b[0m\u001b[1;33m\u001b[0m\u001b[1;33m\u001b[0m\u001b[0m\n\u001b[1;32m--> 232\u001b[1;33m             \u001b[1;32mreturn\u001b[0m \u001b[0mcaller\u001b[0m\u001b[1;33m(\u001b[0m\u001b[0mfunc\u001b[0m\u001b[1;33m,\u001b[0m \u001b[1;33m*\u001b[0m\u001b[1;33m(\u001b[0m\u001b[0mextras\u001b[0m \u001b[1;33m+\u001b[0m \u001b[0margs\u001b[0m\u001b[1;33m)\u001b[0m\u001b[1;33m,\u001b[0m \u001b[1;33m**\u001b[0m\u001b[0mkw\u001b[0m\u001b[1;33m)\u001b[0m\u001b[1;33m\u001b[0m\u001b[1;33m\u001b[0m\u001b[0m\n\u001b[0m\u001b[0;32m    233\u001b[0m     \u001b[0mfun\u001b[0m\u001b[1;33m.\u001b[0m\u001b[0m__name__\u001b[0m \u001b[1;33m=\u001b[0m \u001b[0mfunc\u001b[0m\u001b[1;33m.\u001b[0m\u001b[0m__name__\u001b[0m\u001b[1;33m\u001b[0m\u001b[1;33m\u001b[0m\u001b[0m\n\u001b[0;32m    234\u001b[0m     \u001b[0mfun\u001b[0m\u001b[1;33m.\u001b[0m\u001b[0m__doc__\u001b[0m \u001b[1;33m=\u001b[0m \u001b[0mfunc\u001b[0m\u001b[1;33m.\u001b[0m\u001b[0m__doc__\u001b[0m\u001b[1;33m\u001b[0m\u001b[1;33m\u001b[0m\u001b[0m\n",
      "\u001b[1;32m~\\anaconda3\\lib\\site-packages\\IPython\\core\\magic.py\u001b[0m in \u001b[0;36m<lambda>\u001b[1;34m(f, *a, **k)\u001b[0m\n\u001b[0;32m    185\u001b[0m     \u001b[1;31m# but it's overkill for just that one bit of state.\u001b[0m\u001b[1;33m\u001b[0m\u001b[1;33m\u001b[0m\u001b[0m\n\u001b[0;32m    186\u001b[0m     \u001b[1;32mdef\u001b[0m \u001b[0mmagic_deco\u001b[0m\u001b[1;33m(\u001b[0m\u001b[0marg\u001b[0m\u001b[1;33m)\u001b[0m\u001b[1;33m:\u001b[0m\u001b[1;33m\u001b[0m\u001b[1;33m\u001b[0m\u001b[0m\n\u001b[1;32m--> 187\u001b[1;33m         \u001b[0mcall\u001b[0m \u001b[1;33m=\u001b[0m \u001b[1;32mlambda\u001b[0m \u001b[0mf\u001b[0m\u001b[1;33m,\u001b[0m \u001b[1;33m*\u001b[0m\u001b[0ma\u001b[0m\u001b[1;33m,\u001b[0m \u001b[1;33m**\u001b[0m\u001b[0mk\u001b[0m\u001b[1;33m:\u001b[0m \u001b[0mf\u001b[0m\u001b[1;33m(\u001b[0m\u001b[1;33m*\u001b[0m\u001b[0ma\u001b[0m\u001b[1;33m,\u001b[0m \u001b[1;33m**\u001b[0m\u001b[0mk\u001b[0m\u001b[1;33m)\u001b[0m\u001b[1;33m\u001b[0m\u001b[1;33m\u001b[0m\u001b[0m\n\u001b[0m\u001b[0;32m    188\u001b[0m \u001b[1;33m\u001b[0m\u001b[0m\n\u001b[0;32m    189\u001b[0m         \u001b[1;32mif\u001b[0m \u001b[0mcallable\u001b[0m\u001b[1;33m(\u001b[0m\u001b[0marg\u001b[0m\u001b[1;33m)\u001b[0m\u001b[1;33m:\u001b[0m\u001b[1;33m\u001b[0m\u001b[1;33m\u001b[0m\u001b[0m\n",
      "\u001b[1;32m~\\anaconda3\\lib\\site-packages\\IPython\\core\\magics\\script.py\u001b[0m in \u001b[0;36mshebang\u001b[1;34m(self, line, cell)\u001b[0m\n\u001b[0;32m    243\u001b[0m             \u001b[0msys\u001b[0m\u001b[1;33m.\u001b[0m\u001b[0mstderr\u001b[0m\u001b[1;33m.\u001b[0m\u001b[0mflush\u001b[0m\u001b[1;33m(\u001b[0m\u001b[1;33m)\u001b[0m\u001b[1;33m\u001b[0m\u001b[1;33m\u001b[0m\u001b[0m\n\u001b[0;32m    244\u001b[0m         \u001b[1;32mif\u001b[0m \u001b[0margs\u001b[0m\u001b[1;33m.\u001b[0m\u001b[0mraise_error\u001b[0m \u001b[1;32mand\u001b[0m \u001b[0mp\u001b[0m\u001b[1;33m.\u001b[0m\u001b[0mreturncode\u001b[0m\u001b[1;33m!=\u001b[0m\u001b[1;36m0\u001b[0m\u001b[1;33m:\u001b[0m\u001b[1;33m\u001b[0m\u001b[1;33m\u001b[0m\u001b[0m\n\u001b[1;32m--> 245\u001b[1;33m             \u001b[1;32mraise\u001b[0m \u001b[0mCalledProcessError\u001b[0m\u001b[1;33m(\u001b[0m\u001b[0mp\u001b[0m\u001b[1;33m.\u001b[0m\u001b[0mreturncode\u001b[0m\u001b[1;33m,\u001b[0m \u001b[0mcell\u001b[0m\u001b[1;33m,\u001b[0m \u001b[0moutput\u001b[0m\u001b[1;33m=\u001b[0m\u001b[0mout\u001b[0m\u001b[1;33m,\u001b[0m \u001b[0mstderr\u001b[0m\u001b[1;33m=\u001b[0m\u001b[0merr\u001b[0m\u001b[1;33m)\u001b[0m\u001b[1;33m\u001b[0m\u001b[1;33m\u001b[0m\u001b[0m\n\u001b[0m\u001b[0;32m    246\u001b[0m \u001b[1;33m\u001b[0m\u001b[0m\n\u001b[0;32m    247\u001b[0m     \u001b[1;32mdef\u001b[0m \u001b[0m_run_script\u001b[0m\u001b[1;33m(\u001b[0m\u001b[0mself\u001b[0m\u001b[1;33m,\u001b[0m \u001b[0mp\u001b[0m\u001b[1;33m,\u001b[0m \u001b[0mcell\u001b[0m\u001b[1;33m,\u001b[0m \u001b[0mto_close\u001b[0m\u001b[1;33m)\u001b[0m\u001b[1;33m:\u001b[0m\u001b[1;33m\u001b[0m\u001b[1;33m\u001b[0m\u001b[0m\n",
      "\u001b[1;31mCalledProcessError\u001b[0m: Command 'b'def FuncionEjemplo_Cuadrado (a):\\n    x = a**2\\n    return x\\n'' returned non-zero exit status 9009."
     ]
    }
   ],
   "source": [
    "%%python\n",
    "def FuncionEjemplo_Cuadrado (a):\n",
    "    x = a**2\n",
    "    return x\n"
   ]
  },
  {
   "cell_type": "code",
   "execution_count": 32,
   "id": "7d5fb994",
   "metadata": {},
   "outputs": [
    {
     "name": "stdout",
     "output_type": "stream",
     "text": [
      "El Valor al Cudrado es:\n"
     ]
    },
    {
     "data": {
      "text/plain": [
       "100"
      ]
     },
     "execution_count": 32,
     "metadata": {},
     "output_type": "execute_result"
    }
   ],
   "source": [
    "%%python3\n",
    "print (\"El Valor al Cudrado es:\")\n",
    "FuncionEjemplo_Cuadrado (10)"
   ]
  },
  {
   "cell_type": "markdown",
   "id": "1a5947bc",
   "metadata": {},
   "source": [
    "### Las funciones pueden pasar  argumentos a otras funciones\n",
    "\n",
    "Ejemplo"
   ]
  },
  {
   "cell_type": "code",
   "execution_count": 342,
   "id": "cdefe336",
   "metadata": {},
   "outputs": [],
   "source": [
    "def FuncionMultiplicar (a,b):\n",
    "    Y = a*b\n",
    "    return Y\n",
    "def Division(divisor, dividendo ):\n",
    "    div = dividendo/divisor\n",
    "    return div"
   ]
  },
  {
   "cell_type": "code",
   "execution_count": 343,
   "id": "27be6d3f",
   "metadata": {},
   "outputs": [
    {
     "data": {
      "text/plain": [
       "10"
      ]
     },
     "execution_count": 343,
     "metadata": {},
     "output_type": "execute_result"
    }
   ],
   "source": [
    "FuncionMultiplicar(10,FuncionEjemplo_Cuadrado(1))"
   ]
  },
  {
   "cell_type": "code",
   "execution_count": 344,
   "id": "2095f3f0",
   "metadata": {},
   "outputs": [
    {
     "name": "stdout",
     "output_type": "stream",
     "text": [
      "0.1\n",
      "0.1\n"
     ]
    }
   ],
   "source": [
    "print(Division (divisor = 10, dividendo = 1))\n",
    "print(Division ( dividendo = 1, divisor = 10))"
   ]
  },
  {
   "cell_type": "markdown",
   "id": "02f737e0",
   "metadata": {},
   "source": [
    "### Las funciones pueden devolver otra función\n",
    "Ejemplo:"
   ]
  },
  {
   "cell_type": "code",
   "execution_count": 345,
   "id": "f353bc5c",
   "metadata": {},
   "outputs": [],
   "source": [
    "def Primera(x):\n",
    "    \n",
    "    def Segunda(y):\n",
    "         return x+y\n",
    "      \n",
    "    return Segunda\n",
    "\n",
    "    \n",
    "Agrega = Primera(1000)\n",
    "\n"
   ]
  },
  {
   "cell_type": "code",
   "execution_count": 346,
   "id": "f2f151fc",
   "metadata": {},
   "outputs": [
    {
     "name": "stdout",
     "output_type": "stream",
     "text": [
      "1888\n"
     ]
    }
   ],
   "source": [
    "print (Agrega(888))\n",
    "\n"
   ]
  },
  {
   "cell_type": "markdown",
   "id": "ce54d882",
   "metadata": {},
   "source": [
    "### Argumentos de Longitud variable\n",
    "En una función puede pasar un número variable de argumentos usando símbolos especiales:\n",
    "\n",
    "1)'*' argumentos que no son palabras clave\n",
    "\n",
    "2)'* *' argumentos de palabras clave"
   ]
  },
  {
   "cell_type": "code",
   "execution_count": 347,
   "id": "a06e9560",
   "metadata": {},
   "outputs": [],
   "source": [
    "# Argumentos que on son palabras llave \n",
    "def ArgumentoVariable(*ArguVar):\n",
    "    cont = 0\n",
    "    for x in ArguVar:\n",
    "        cont = cont+x\n",
    "    return cont"
   ]
  },
  {
   "cell_type": "code",
   "execution_count": 348,
   "id": "4351fbcb",
   "metadata": {},
   "outputs": [
    {
     "data": {
      "text/plain": [
       "57"
      ]
     },
     "execution_count": 348,
     "metadata": {},
     "output_type": "execute_result"
    }
   ],
   "source": [
    "ArgumentoVariable(1,2,3,4,5,6,7,8,9,12)"
   ]
  },
  {
   "cell_type": "code",
   "execution_count": 349,
   "id": "a465db70",
   "metadata": {},
   "outputs": [
    {
     "name": "stdout",
     "output_type": "stream",
     "text": [
      "PrimerNombre , David\n",
      "mid , for\n",
      "last , Geeks\n"
     ]
    }
   ],
   "source": [
    "# Argumentos de Palabras clave\n",
    "def NombreCompleto1(**Nombre):\n",
    "    for key, value in Nombre.items():\n",
    "        print(\"%s , %s\" % (key, value))\n",
    " \n",
    " \n",
    "# Driver code\n",
    "NombreCompleto1(PrimerNombre='David', mid='for', last='Geeks')"
   ]
  },
  {
   "cell_type": "code",
   "execution_count": 350,
   "id": "0a7c67d9",
   "metadata": {},
   "outputs": [],
   "source": [
    "# Argumentos con Llave\n",
    "def nombreCompleto (**Nombre):\n",
    "    for key, value in Nombre.items():\n",
    "        print(\"%s -> %s\" % (key, value))\n"
   ]
  },
  {
   "cell_type": "code",
   "execution_count": 351,
   "id": "699a2a2a",
   "metadata": {},
   "outputs": [
    {
     "name": "stdout",
     "output_type": "stream",
     "text": [
      "PrimerNombre -> David\n",
      "SegundoNombre -> Alfonso\n"
     ]
    }
   ],
   "source": [
    "nombreCompleto(PrimerNombre = 'David', SegundoNombre = 'Alfonso')"
   ]
  },
  {
   "cell_type": "markdown",
   "id": "8e0b3fc9",
   "metadata": {},
   "source": [
    "## Cadena de documentación\n",
    "La primera cadena después de la función se denomina cadena de documento o Docstring en resumen. Esto se utiliza para describir la funcionalidad de la función."
   ]
  },
  {
   "cell_type": "code",
   "execution_count": 352,
   "id": "3f8b1089",
   "metadata": {},
   "outputs": [],
   "source": [
    "def CadenaDocumentacion(x,y):\n",
    "    \"\"\"Función deseñada para elevar a la potencia un numero\"\"\"\n",
    "    z = x**y\n",
    "    return z"
   ]
  },
  {
   "cell_type": "code",
   "execution_count": 353,
   "id": "b6ce5d59",
   "metadata": {},
   "outputs": [
    {
     "name": "stdout",
     "output_type": "stream",
     "text": [
      "Función deseñada para elevar a la potencia un numero\n",
      "10000000000\n"
     ]
    }
   ],
   "source": [
    "print(CadenaDocumentacion.__doc__)\n",
    "print(CadenaDocumentacion(10,10))"
   ]
  },
  {
   "cell_type": "markdown",
   "id": "affd08d9",
   "metadata": {},
   "source": [
    "### Función de referencia\n",
    "\n",
    "Cuando pasamos una variable a una función, se crea una nueva referencia al objeto.\n",
    "Ejemplo:"
   ]
  },
  {
   "cell_type": "code",
   "execution_count": 354,
   "id": "852007a3",
   "metadata": {},
   "outputs": [],
   "source": [
    "def FuncionReferencia(x):\n",
    "    x[0] = 'Uno'\n",
    "    x[1] = 'Dos'\n",
    "    x[2] = 'Tres'\n",
    " \n",
    " "
   ]
  },
  {
   "cell_type": "code",
   "execution_count": 355,
   "id": "54757a12",
   "metadata": {},
   "outputs": [
    {
     "name": "stdout",
     "output_type": "stream",
     "text": [
      "Lista original\n",
      "[1, 2, 3, 4, 5, 6]\n",
      "Lista despues de Función de Referencia\n",
      "['Uno', 'Dos', 'Tres', 4, 5, 6]\n"
     ]
    }
   ],
   "source": [
    "Lista = [1,2,3,4,5,6]\n",
    "print('Lista original')\n",
    "print(Lista)\n",
    "\n",
    "FuncionReferencia(Lista)\n",
    "print('Lista despues de Función de Referencia')\n",
    "print(Lista)\n",
    "\n"
   ]
  },
  {
   "cell_type": "markdown",
   "id": "c1717e5c",
   "metadata": {},
   "source": [
    "Si al pasar una referencia, cambiamos la referencia recibida a otra cosa, la conexión entre el parámetro pasado y el recibido se rompe. Por ejemplo:"
   ]
  },
  {
   "cell_type": "code",
   "execution_count": 356,
   "id": "97249f38",
   "metadata": {},
   "outputs": [],
   "source": [
    "def Cambio(x):\n",
    "     \n",
    "    ListaRef = [20, 30, 40,1,2,6]\n",
    "    print (\"Referencia dentro de la Función = \"+str((ListaRef))) \n",
    "    \n"
   ]
  },
  {
   "cell_type": "code",
   "execution_count": 357,
   "id": "8fa7a105",
   "metadata": {},
   "outputs": [
    {
     "name": "stdout",
     "output_type": "stream",
     "text": [
      "Referencia Original = [10, 11, 12, 13, 14, 15]\n",
      "Referencia dentro de la Función = [20, 30, 40, 1, 2, 6]\n",
      "Referencia despues del cambio en la función[10, 11, 12, 13, 14, 15]\n"
     ]
    }
   ],
   "source": [
    "ListaRef = [10, 11, 12, 13, 14, 15]\n",
    "print (\"Referencia Original = \" + str(ListaRef) )\n",
    "\n",
    "Cambio(ListaRef)\n",
    "\n",
    "print (\"Referencia despues del cambio en la función\" + str(ListaRef) ) \n"
   ]
  },
  {
   "cell_type": "markdown",
   "id": "4bfb59ae",
   "metadata": {},
   "source": [
    "### Funciones anónimas\n",
    "Una función anónima significa que una función no tiene nombre. se define con la palabra reservada  def. La palabra clave lambda se usa para crear funciones anónimas. "
   ]
  },
  {
   "cell_type": "code",
   "execution_count": 358,
   "id": "77aabbb3",
   "metadata": {},
   "outputs": [],
   "source": [
    "def Funcion_def(x): return x+x**x"
   ]
  },
  {
   "cell_type": "code",
   "execution_count": 359,
   "id": "726c2fda",
   "metadata": {},
   "outputs": [],
   "source": [
    "Funcion_Lambda = lambda x : x+x**x"
   ]
  },
  {
   "cell_type": "code",
   "execution_count": 360,
   "id": "e89da67c",
   "metadata": {
    "scrolled": true
   },
   "outputs": [
    {
     "name": "stdout",
     "output_type": "stream",
     "text": [
      "Función def \n",
      "823550\n",
      "Función lambda \n",
      "823550\n"
     ]
    }
   ],
   "source": [
    "print(\"Función def \")\n",
    "print(Funcion_def(7))\n",
    "\n",
    "print(\"Función lambda \")\n",
    "print(Funcion_Lambda(7))"
   ]
  },
  {
   "cell_type": "code",
   "execution_count": 28,
   "id": "6b48c2ec",
   "metadata": {},
   "outputs": [
    {
     "data": {
      "application/json": {
       "cell": {
        "!": "OSMagics",
        "HTML": "Other",
        "SVG": "Other",
        "bash": "Other",
        "capture": "ExecutionMagics",
        "cmd": "Other",
        "debug": "ExecutionMagics",
        "file": "Other",
        "html": "DisplayMagics",
        "javascript": "DisplayMagics",
        "js": "DisplayMagics",
        "latex": "DisplayMagics",
        "markdown": "DisplayMagics",
        "perl": "Other",
        "prun": "ExecutionMagics",
        "pypy": "Other",
        "python": "Other",
        "python2": "Other",
        "python3": "Other",
        "ruby": "Other",
        "script": "ScriptMagics",
        "sh": "Other",
        "svg": "DisplayMagics",
        "sx": "OSMagics",
        "system": "OSMagics",
        "time": "ExecutionMagics",
        "timeit": "ExecutionMagics",
        "writefile": "OSMagics"
       },
       "line": {
        "alias": "OSMagics",
        "alias_magic": "BasicMagics",
        "autoawait": "AsyncMagics",
        "autocall": "AutoMagics",
        "automagic": "AutoMagics",
        "autosave": "KernelMagics",
        "bookmark": "OSMagics",
        "cd": "OSMagics",
        "clear": "KernelMagics",
        "cls": "KernelMagics",
        "colors": "BasicMagics",
        "conda": "PackagingMagics",
        "config": "ConfigMagics",
        "connect_info": "KernelMagics",
        "copy": "Other",
        "ddir": "Other",
        "debug": "ExecutionMagics",
        "dhist": "OSMagics",
        "dirs": "OSMagics",
        "doctest_mode": "BasicMagics",
        "echo": "Other",
        "ed": "Other",
        "edit": "KernelMagics",
        "env": "OSMagics",
        "gui": "BasicMagics",
        "hist": "Other",
        "history": "HistoryMagics",
        "killbgscripts": "ScriptMagics",
        "ldir": "Other",
        "less": "KernelMagics",
        "load": "CodeMagics",
        "load_ext": "ExtensionMagics",
        "loadpy": "CodeMagics",
        "logoff": "LoggingMagics",
        "logon": "LoggingMagics",
        "logstart": "LoggingMagics",
        "logstate": "LoggingMagics",
        "logstop": "LoggingMagics",
        "ls": "Other",
        "lsmagic": "BasicMagics",
        "macro": "ExecutionMagics",
        "magic": "BasicMagics",
        "matplotlib": "PylabMagics",
        "mkdir": "Other",
        "more": "KernelMagics",
        "notebook": "BasicMagics",
        "page": "BasicMagics",
        "pastebin": "CodeMagics",
        "pdb": "ExecutionMagics",
        "pdef": "NamespaceMagics",
        "pdoc": "NamespaceMagics",
        "pfile": "NamespaceMagics",
        "pinfo": "NamespaceMagics",
        "pinfo2": "NamespaceMagics",
        "pip": "PackagingMagics",
        "popd": "OSMagics",
        "pprint": "BasicMagics",
        "precision": "BasicMagics",
        "prun": "ExecutionMagics",
        "psearch": "NamespaceMagics",
        "psource": "NamespaceMagics",
        "pushd": "OSMagics",
        "pwd": "OSMagics",
        "pycat": "OSMagics",
        "pylab": "PylabMagics",
        "qtconsole": "KernelMagics",
        "quickref": "BasicMagics",
        "recall": "HistoryMagics",
        "rehashx": "OSMagics",
        "reload_ext": "ExtensionMagics",
        "ren": "Other",
        "rep": "Other",
        "rerun": "HistoryMagics",
        "reset": "NamespaceMagics",
        "reset_selective": "NamespaceMagics",
        "rmdir": "Other",
        "run": "ExecutionMagics",
        "save": "CodeMagics",
        "sc": "OSMagics",
        "set_env": "OSMagics",
        "store": "StoreMagics",
        "sx": "OSMagics",
        "system": "OSMagics",
        "tb": "ExecutionMagics",
        "time": "ExecutionMagics",
        "timeit": "ExecutionMagics",
        "unalias": "OSMagics",
        "unload_ext": "ExtensionMagics",
        "who": "NamespaceMagics",
        "who_ls": "NamespaceMagics",
        "whos": "NamespaceMagics",
        "xdel": "NamespaceMagics",
        "xmode": "BasicMagics"
       }
      },
      "text/plain": [
       "Available line magics:\n",
       "%alias  %alias_magic  %autoawait  %autocall  %automagic  %autosave  %bookmark  %cd  %clear  %cls  %colors  %conda  %config  %connect_info  %copy  %ddir  %debug  %dhist  %dirs  %doctest_mode  %echo  %ed  %edit  %env  %gui  %hist  %history  %killbgscripts  %ldir  %less  %load  %load_ext  %loadpy  %logoff  %logon  %logstart  %logstate  %logstop  %ls  %lsmagic  %macro  %magic  %matplotlib  %mkdir  %more  %notebook  %page  %pastebin  %pdb  %pdef  %pdoc  %pfile  %pinfo  %pinfo2  %pip  %popd  %pprint  %precision  %prun  %psearch  %psource  %pushd  %pwd  %pycat  %pylab  %qtconsole  %quickref  %recall  %rehashx  %reload_ext  %ren  %rep  %rerun  %reset  %reset_selective  %rmdir  %run  %save  %sc  %set_env  %store  %sx  %system  %tb  %time  %timeit  %unalias  %unload_ext  %who  %who_ls  %whos  %xdel  %xmode\n",
       "\n",
       "Available cell magics:\n",
       "%%!  %%HTML  %%SVG  %%bash  %%capture  %%cmd  %%debug  %%file  %%html  %%javascript  %%js  %%latex  %%markdown  %%perl  %%prun  %%pypy  %%python  %%python2  %%python3  %%ruby  %%script  %%sh  %%svg  %%sx  %%system  %%time  %%timeit  %%writefile\n",
       "\n",
       "Automagic is ON, % prefix IS NOT needed for line magics."
      ]
     },
     "execution_count": 28,
     "metadata": {},
     "output_type": "execute_result"
    }
   ],
   "source": [
    "%lsmagic\n",
    "        "
   ]
  }
 ],
 "metadata": {
  "kernelspec": {
   "display_name": "Python 3 (ipykernel)",
   "language": "python",
   "name": "python3"
  },
  "language_info": {
   "codemirror_mode": {
    "name": "ipython",
    "version": 3
   },
   "file_extension": ".py",
   "mimetype": "text/x-python",
   "name": "python",
   "nbconvert_exporter": "python",
   "pygments_lexer": "ipython3",
   "version": "3.9.7"
  }
 },
 "nbformat": 4,
 "nbformat_minor": 5
}
